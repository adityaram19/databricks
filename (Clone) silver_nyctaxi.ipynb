{
 "cells": [
  {
   "cell_type": "code",
   "execution_count": 0,
   "metadata": {
    "application/vnd.databricks.v1+cell": {
     "cellMetadata": {
      "byteLimit": 2048000,
      "rowLimit": 10000
     },
     "inputWidgets": {},
     "nuid": "f6a873a9-1394-4507-9c24-2e1321864560",
     "showTitle": false,
     "tableResultSettingsMap": {},
     "title": ""
    }
   },
   "outputs": [],
   "source": [
    "import dlt\n",
    "from pyspark.sql.functions import *\n",
    "\n",
    "# Define the silver table using DLT\n",
    "@dlt.table(\n",
    "    name=\"silver_nyctaxi\",\n",
    "    comment=\"Silver table containing cleaned NYC taxi data from bronze layer\",\n",
    "    table_properties={\n",
    "        \"quality\": \"silver\",\n",
    "        \"delta.tuneFileSizesForRewrites\": \"true\",\n",
    "        \"delta.feature.timestampNtz\": \"supported\"  # Enable timestampNtz feature\n",
    "    }\n",
    ")\n",
    "def create_silver_nyctaxi():\n",
    "    # Read the bronze table\n",
    "    bronze_df = spark.read.format(\"delta\").table(\"bronze_nyctaxi\")\n",
    "    \n",
    "    # Basic transformation\n",
    "    silver_df = (bronze_df\n",
    "        # Apply data quality filters\n",
    "        .filter(col(\"trip_distance\") > 0)  # Remove invalid distances\n",
    "        .filter(col(\"fare_amount\") > 0)    # Remove invalid fares\n",
    "        # Add processing timestamp\n",
    "        .withColumn(\"processed_timestamp\", current_timestamp())\n",
    "    )\n",
    "    \n",
    "    return silver_df"
   ]
  },
  {
   "cell_type": "code",
   "execution_count": 0,
   "metadata": {
    "application/vnd.databricks.v1+cell": {
     "cellMetadata": {},
     "inputWidgets": {},
     "nuid": "38b1a44e-3169-40b7-82d4-42ad1c70f83c",
     "showTitle": false,
     "tableResultSettingsMap": {},
     "title": ""
    }
   },
   "outputs": [],
   "source": [
    "import dlt\n",
    "from pyspark.sql.functions import *\n",
    "\n",
    "# Define the gold table using DLT\n",
    "@dlt.table(\n",
    "    name=\"gold_nyctaxi_summary\",\n",
    "    comment=\"Gold table with aggregated NYC taxi metrics by VendorID\",\n",
    "    table_properties={\n",
    "        \"quality\": \"gold\",\n",
    "        \"delta.tuneFileSizesForRewrites\": \"true\"\n",
    "    }\n",
    ")\n",
    "def create_gold_nyctaxi_summary():\n",
    "    # Read the silver table\n",
    "    silver_df = dlt.read(\"silver_nyctaxi\")\n",
    "    \n",
    "    # Aggregate data: sum total_amount, tolls_amount, Airport_fee; avg passenger_count; group by VendorID\n",
    "    gold_df = (silver_df\n",
    "        .groupBy(\"VendorID\")\n",
    "        .agg(\n",
    "            sum(\"total_amount\").alias(\"total_amount_sum\"),\n",
    "            sum(\"tolls_amount\").alias(\"tolls_amount_sum\"),\n",
    "            sum(\"Airport_fee\").alias(\"airport_fee_sum\"),\n",
    "            avg(\"passenger_count\").alias(\"avg_passenger_count\")\n",
    "        )\n",
    "    )\n",
    "    \n",
    "    return gold_df"
   ]
  }
 ],
 "metadata": {
  "application/vnd.databricks.v1+notebook": {
   "computePreferences": null,
   "dashboards": [],
   "environmentMetadata": {
    "base_environment": "",
    "environment_version": "2"
   },
   "inputWidgetPreferences": null,
   "language": "python",
   "notebookMetadata": {
    "pythonIndentUnit": 4
   },
   "notebookName": "(Clone) silver_nyctaxi",
   "widgets": {}
  },
  "language_info": {
   "name": "python"
  }
 },
 "nbformat": 4,
 "nbformat_minor": 0
}
